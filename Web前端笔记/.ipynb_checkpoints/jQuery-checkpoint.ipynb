{
 "cells": [
  {
   "cell_type": "markdown",
   "metadata": {},
   "source": [
    "# jQuery\n",
    "- jQuery是一个免费、开源的JavaScript库，也是目前使用最广泛的JavaScript函数库。\n",
    "- jQuery极大地方便你完成web前端的相关操作，例如节点操作，元素操作，事件绑定，ajax操作且解决了绝大多数的兼容性问题\n",
    "- jQuery的版本分为1.x系列和2.x、3.x系列，1.x系列兼容低版本的浏览器，2.x、3.x系列放弃支持低版本的浏览器，目前使用最多的是1.x系列\n",
    "- http://jquery.com/官方网站\n",
    "- jQuery是一个函数库，一个js文件，页面用script标签引入这个js文件就可以使用。\n",
    "- <script type=\"text/javascript\" src=\"js/jquery-1.8.3.min.js\"></script>\n",
    "\n",
    "## jQuery选择器\n",
    "### jQuery用法思想\n",
    "- 选择某个网页元素，然后对它来进行某种操作\n",
    "### jQuery选择器\n",
    "- jQuery选择器可以快速地选择元素，选择规则和css样式相同\n",
    "- 基础选择器\n",
    "- 过滤获取\n",
    "- 父子关系获取\n",
    "\n",
    "## jQuery操作\n",
    "### css操作行内样式\n",
    "- 特别注意 ：选择器获取的多个元素，获取信息获取的是第一个\n",
    "\n",
    "### 类名class操作\n",
    "- 操作样式类名\n",
    "\n",
    "### 文本操作\n",
    "- 取出或设置html内容\n",
    "- text取出或设置text内容\n",
    "\n",
    "### 属性操作\n",
    "- attr（）取出或设置某个属性的值\n",
    "- removeattr（）删除属性\n",
    "\n",
    "## 相关尺寸\n",
    "- 获取元素相对于文档的偏移量:\n",
    "    - var pos = $('#small').offset();\n",
    "    - //console.log(pos.left);//consloe.log(pos.top);\n",
    "- 获取当前元素相对于父级元素的偏移量\n",
    "    - var l = $('#small').position().left;\n",
    "    - var t = $('#small').position().top;\n",
    "- 获取文档滚动距离\n",
    "    - var st = $(document).scrollTop();\n",
    "    - var sl = $(document).scrollLeft();\n",
    "- 获取或设置元素的宽度和高度\n",
    "    - var w = $('#big').width();\n",
    "    - var h = $('#big').height();\n",
    "- 获取可视区域的宽度和高度\n",
    "    - var cw = $(window).width();\n",
    "    - var ch = $(window).heighr();"
   ]
  },
  {
   "cell_type": "code",
   "execution_count": null,
   "metadata": {},
   "outputs": [],
   "source": []
  }
 ],
 "metadata": {
  "kernelspec": {
   "display_name": "Python 3",
   "language": "python",
   "name": "python3"
  },
  "language_info": {
   "codemirror_mode": {
    "name": "ipython",
    "version": 3
   },
   "file_extension": ".py",
   "mimetype": "text/x-python",
   "name": "python",
   "nbconvert_exporter": "python",
   "pygments_lexer": "ipython3",
   "version": "3.6.5"
  }
 },
 "nbformat": 4,
 "nbformat_minor": 2
}
