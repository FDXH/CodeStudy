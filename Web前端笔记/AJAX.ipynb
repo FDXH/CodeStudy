{
 "cells": [
  {
   "cell_type": "markdown",
   "metadata": {},
   "source": [
    "# Ajax 是什么？\n",
    "## ajax是与服务器交换数据并更新部分网页的艺术，在不重新加载页面的情况下\n",
    "- AJAX指异步JavaScript与XML（Asynchronous JavaScript And XML）\n",
    "- AJAX是一种在2005年有Google推广开的编程模式\n",
    "- AJAX不是一种新的编程语言，而是一种使用现有标准的新方法\n",
    "- 通过AJAX，你可以创建更好、更快以及更友好的web应用程序\n",
    "- AJAX基于JavaScript和HTTP请求（HTTP requests）；\n",
    "- 通过HTTP请求加载远程数据\n",
    "- jQuery底层对AJAX实现进行了封装，使得我们在使用AJAX时，不必像原生JS那么复杂\n",
    "\n",
    "## 如何使用ajax技术？\n",
    "- 首先拥有web服务器，通过浏览器去执行html和后台文件\n",
    "- 注意：平常写的html直接在浏览器打开时使用的是file协议\n",
    "    - ajax是基于HTTP协议请求的，所以要求html能够使用http的协议打开\n",
    "    - 如果能做到用http协议打开html并且能够正常显示，代表web服务器搭建成功\n",
    "\n",
    "### get()方法：\n",
    "- 发送ajax请求：\n",
    "    - 1.url \n",
    "    - 2.发送get请求时携带的参数（可选）\n",
    "    - 3.回调函数：请求玩之后需要做的事（可选）\n",
    "    - 4.返回数据的类型（可选）\n",
    "- post方法同get方法相似\n",
    "\n",
    "### $.ajax()\n"
   ]
  }
 ],
 "metadata": {
  "kernelspec": {
   "display_name": "Python 3",
   "language": "python",
   "name": "python3"
  },
  "language_info": {
   "codemirror_mode": {
    "name": "ipython",
    "version": 3
   },
   "file_extension": ".py",
   "mimetype": "text/x-python",
   "name": "python",
   "nbconvert_exporter": "python",
   "pygments_lexer": "ipython3",
   "version": "3.6.5"
  }
 },
 "nbformat": 4,
 "nbformat_minor": 2
}
