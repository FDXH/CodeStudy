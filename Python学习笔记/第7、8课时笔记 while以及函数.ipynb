{
 "cells": [
  {
   "cell_type": "markdown",
   "metadata": {},
   "source": [
    "# while循环\n",
    "- 一个循环语句\n",
    "- 表示当某条件成立的时候，就循环\n",
    "- 不知道具体循环次数，但能确定循环的成立条件的时候用while循环\n",
    "- while循环语法：\n",
    "            \n",
    "            while 条件表达式：\n",
    "                语句块\n",
    "                \n",
    "            #另外一种表达方法\n",
    "            whilie 条件表达式:\n",
    "                语句块1\n",
    "            else:\n",
    "                语句块2\n",
    "                \n",
    "# 函数:\n",
    "- 代码的一种组织形式\n",
    "- 一个函数一般完成一项特定的功能\n",
    "- 函数使用\n",
    "    - 函数需要先定义\n",
    "    - 使用函数，俗称调用\n",
    "    - 函数的语法：\n",
    "    \n",
    "                def 函数名(参数):\n",
    "                    函数体\n",
    "    - 函数名自己定义，起名需要遵循命名规则，约定俗成，大驼峰命名只给类用，因此使用小驼峰命名法\n",
    "    - 后面括号和冒号不能省，括号内可以有参数，函数内所有代码缩进\n",
    "    - 函数的调用：直接函数名后面跟括号\n",
    "- 查找函数帮助文档：\n",
    "    - 用help函数：help(函数名)\n",
    "    - \n",
    "    \n",
    "    \n",
    "    ## 函数的参数和返回值\n",
    "    - 参数：负责给函数传递一些必要的数据或者信息\n",
    "        - 形参（形式参数）：在函数定义的时候用到的参数没有具体值，知识一个占位的符号，成为形参\n",
    "        - 实参（实际参数）：在调用函数的时候输入的值\n",
    "    - 返回值：函数的执行结果\n",
    "        - 使用return关键字\n",
    "        - 如果没有return，默认返回一个None\n",
    "        - 函数一旦执行return语句，则无条件返回，即结束函数的执行\n",
    "        \n",
    "    ## 参数详情\n",
    "    - {参考资料}（http://www.cnblogs.com/bingabcd/p/6671368.html）\n",
    "    - 参数分类\n",
    "        - 普通参数\n",
    "        - 默认参数\n",
    "        - 关键字参数\n",
    "        - 收集参数\n",
    "        \n",
    "        ### 普通参数\n",
    "            - 参见上例\n",
    "            - 定义的时候直接定义变量名\n",
    "            - 调用的时候把变量或者值放入指定位置\n",
    "            \n",
    "                        def 函数名 ( 参数1， 参数2， ........)\n",
    "                            函数体\n",
    "                        # 调用：调用的时候，具体指参考的是位置，按位置赋值\n",
    "                        函数名(value1,value2,........)\n",
    "        ### 默认参数\n",
    "            - 形参带有默认值\n",
    "            - 调用的时候，如果没有相对应的形参赋值，则使用默认值\n",
    "            \n",
    "                        def func_name(p1=v1,p2=v2.........):\n",
    "                            func_block\n",
    "                        #调用1\n",
    "                        func_name()\n",
    "                        #调用2\n",
    "                        value1 = 100\n",
    "                        value2 = 200\n",
    "                        func_name(value1,value2)\n",
    "        ### 关键字参数\n",
    "            - 语法：\n",
    "            \n",
    "                        def func(p1=va,p2=v2....):\n",
    "                            func_body\n",
    "                        #调用\n",
    "                        func(p1=value1,p2=value2.......)\n",
    "                        \n",
    "            - 比较麻烦，但是也有好处：\n",
    "                - 不容易混淆，一般实参和实参只是按照位置一一对应，容易出错\n",
    "                - 使用关键字参数，可以不考虑参数位置\n",
    "         ### 收集参数\n",
    "             - 把没有位置，和不能定义时的参数位置向对应的参数，放入一个特定的数据结构中\n",
    "             - 语法：\n",
    "                         \n",
    "                         def func(*args):\n",
    "                             func_body\n",
    "                             按照list使用方式访问args得到传入的参数\n",
    "                         #调用\n",
    "                         func(p1, p2, p3, ......)\n",
    "             - 参数名args不是必须这么写，但是强烈推荐直接用args，约定俗成\n",
    "             - 参数名args前需要有 * 号\n",
    "             - 收集参数可以和其它参数共存\n",
    "             \n",
    "             #### 收集参数之关键字收集参数\n",
    "             - 把关键字参数按字典格式存入收集参数\n",
    "             - 语法：\n",
    "                         def func( **kwargs):\n",
    "                             func_body\n",
    "                             \n",
    "                         # 调用:\n",
    "                         func(p1=v1, p2=v2, p3=v3......)\n",
    "             - kwargs一般约定俗成\n",
    "             - 调用的时候，把多余的关键字参数放入kwargs\n",
    "             - 访问kwargs需要按字典格式访问\n",
    "             \n",
    "             #### 收集参数混合调用的顺序问题\n",
    "             - 收集参数，关键字参数，普通参数可以混合使用\n",
    "             - 使用规则就是，普通参数和关键字参数优先\n",
    "             - 定义的时候一般找普通参数，关键字参数，收集参数tuple，收集参数dict\n",
    "             \n",
    "             #### 收集参数的解包问题\n",
    "             - 把参数放入list或者字典中，直接把list中的值放入收集参数中\n",
    "             - 语法：参看案例\n",
    "             - list等类型调用时需要使用 * 解包\n",
    "             - 同理，dict类型解包使用 **\n",
    "     ## 函数文档\n",
    "     - 函数的文档的作用是对当前函数提供使用相关的参考信息\n",
    "     - 文档的写法：\n",
    "         - 在函数内部开始的第一行使用三引号字符串定义符\n",
    "         - 一般具有特定格式\n",
    "         - 参看案例\n",
    "     - 文档查看\n",
    "         - 使用help函数，形如help(func)\n",
    "         - 使用 __doc__ ，参看案例"
   ]
  },
  {
   "cell_type": "code",
   "execution_count": 27,
   "metadata": {},
   "outputs": [
    {
     "name": "stdout",
     "output_type": "stream",
     "text": [
      " 1 \n",
      " 2  4 \n",
      " 3  6  9 \n",
      " 4  8 12 16 \n",
      " 5 10 15 20 25 \n",
      " 6 12 18 24 30 36 \n",
      " 7 14 21 28 35 42 49 \n",
      " 8 16 24 32 40 48 56 64 \n",
      " 9 18 27 36 45 54 63 72 81 \n"
     ]
    }
   ],
   "source": [
    "# 久久乘法表\n",
    "#由于print自带转行，要么print(\"\",end = \" \"),\n",
    "#所以书写一个printLine函数\n",
    "def printLine(row):\n",
    "    for col in range(1,row+1):\n",
    "        print( \"%2d\" % (row*col), end = \" \" )\n",
    "    print(\"\")\n",
    "for row in range(1,10):\n",
    "    printLine(row)"
   ]
  },
  {
   "cell_type": "code",
   "execution_count": 32,
   "metadata": {},
   "outputs": [],
   "source": [
    "# 默认参数实例\n",
    "# 报名函数，需要知道学生性别\n",
    "# 学习Python的学生基本是男生，如果没有特别指定，默认男生\n",
    "def rag(name,age,gender=\"male\"):\n",
    "    if gender == \"male\":\n",
    "        print(\"{0} is {1}, and he is a good student\".format(name,age))\n",
    "    else:\n",
    "        print(\"{0} is {1}, and she is a good student\".format(name,age))"
   ]
  },
  {
   "cell_type": "code",
   "execution_count": 33,
   "metadata": {},
   "outputs": [
    {
     "name": "stdout",
     "output_type": "stream",
     "text": [
      "mingyue is 21, and he is a good student\n",
      "xiaojing is 23, and she is a good student\n"
     ]
    }
   ],
   "source": [
    "#调用默认参数函数实例1\n",
    "rag(\"mingyue\",21)\n",
    "rag(\"xiaojing\",23,\"famale\")"
   ]
  },
  {
   "cell_type": "code",
   "execution_count": 34,
   "metadata": {},
   "outputs": [
    {
     "name": "stdout",
     "output_type": "stream",
     "text": [
      "Hello 大家好，我自我介绍一下，简单说两句\n",
      "<class 'tuple'>\n",
      "xiehai\n",
      "22\n",
      "昆明\n",
      "xiaohui\n",
      "single\n",
      "Hello 大家好，我自我介绍一下，简单说两句\n",
      "<class 'tuple'>\n",
      "王宏宇\n"
     ]
    }
   ],
   "source": [
    "# 收集参数代码\n",
    "# 函数模拟一个学生进行自我介绍，但具体内容不清楚\n",
    "# args把它看做一个list\n",
    "def stu( *args):\n",
    "    print(\"Hello 大家好，我自我介绍一下，简单说两句\")\n",
    "    # type函数作用是检测变量的类型\n",
    "    print(type(args))\n",
    "    for item in args:\n",
    "        print(item)\n",
    "\n",
    "stu(\"xiehai\",22,\"昆明\",\"xiaohui\",\"single\")\n",
    "stu(\"王宏宇\")"
   ]
  },
  {
   "cell_type": "code",
   "execution_count": 37,
   "metadata": {},
   "outputs": [
    {
     "name": "stdout",
     "output_type": "stream",
     "text": [
      "Hello 大家好，我自我介绍一下，简单说两句\n",
      "<class 'dict'>\n",
      "name : xiehai\n",
      "arg : 22\n",
      "addr : 昆明\n",
      "lover : xiaohui\n",
      "status : single\n",
      "********************\n",
      "Hello 大家好，我自我介绍一下，简单说两句\n",
      "<class 'dict'>\n",
      "name : 王宏宇\n"
     ]
    }
   ],
   "source": [
    "# 收集参数关键字案例\n",
    "# 自我介绍\n",
    "# 调用的时候需要使用关键字参数调用\n",
    "def stu( **kwargs):\n",
    "    # 在函数体内对于kwargs的使用不用带星号\n",
    "    print(\"Hello 大家好，我自我介绍一下，简单说两句\")\n",
    "    print(type(kwargs))\n",
    "    # 对于字典的访问，python2和python3有区别\n",
    "    for k,v in kwargs.items():\n",
    "        print(k,\":\",v)\n",
    "stu(name=\"xiehai\", arg=22, addr=\"昆明\", lover=\"xiaohui\", status=\"single\")\n",
    "\n",
    "print(\"*\" * 20)\n",
    "\n",
    "stu(name=\"王宏宇\")"
   ]
  },
  {
   "cell_type": "code",
   "execution_count": 45,
   "metadata": {},
   "outputs": [
    {
     "name": "stdout",
     "output_type": "stream",
     "text": [
      "Hello 大家好\n",
      "我叫xiehai,我今年22岁大了.\n",
      "我没有爱好\n",
      "********************\n",
      "####################\n",
      "------------------------------\n",
      "Hello 大家好\n",
      "我叫xiehai,我今年22岁大了.\n",
      "我的爱好是电脑\n",
      "********************\n",
      "####################\n",
      "------------------------------\n",
      "Hello 大家好\n",
      "我叫xiehai,我今年22岁大了.\n",
      "我的爱好是电脑\n",
      "********************\n",
      "大小姐\n",
      "####################\n",
      "hobby2 : 烹饪\n",
      "hobby3 : 社保\n"
     ]
    }
   ],
   "source": [
    "# 收集参数混合调用案例\n",
    "# stu模拟一个学生的自我介绍\n",
    "def stu(name, age, *args, hobby=\"没有\", **kwargs):\n",
    "    print(\"Hello 大家好\")\n",
    "    print(\"我叫{0},我今年{1}岁大了.\".format(name,age))\n",
    "    if hobby == \"没有\":\n",
    "        print(\"我没有爱好\")\n",
    "    else:\n",
    "        print(\"我的爱好是{0}\".format(hobby))\n",
    "        \n",
    "    print(\"*\" * 20)\n",
    "    \n",
    "    for i in args:\n",
    "        print(i)\n",
    "    \n",
    "    print(\"#\" * 20)\n",
    "    for k,v in kwargs.items():\n",
    "        print(k,\":\",v)\n",
    "\n",
    "#开始调用\n",
    "name = \"xiehai\"\n",
    "age = 22\n",
    "\n",
    "stu(name, age)\n",
    "print(\"-\" * 30)\n",
    "stu(name, age ,hobby=\"电脑\")\n",
    "print(\"-\" * 30)\n",
    "stu(name, age, \"大小姐\",  hobby=\"电脑\", hobby2=\"烹饪\", hobby3=\"社保\")"
   ]
  },
  {
   "cell_type": "code",
   "execution_count": 53,
   "metadata": {},
   "outputs": [
    {
     "name": "stdout",
     "output_type": "stream",
     "text": [
      "啦啦啦啦啦啦\n",
      "0\n",
      "<class 'list'>\n",
      "['xiehai', 22, 100]\n",
      "啦啦啦啦啦啦\n",
      "0\n",
      "<class 'str'>\n",
      "xiehai\n",
      "1\n",
      "<class 'int'>\n",
      "22\n",
      "2\n",
      "<class 'int'>\n",
      "100\n"
     ]
    }
   ],
   "source": [
    "# 收集参数的案例问题\n",
    "\n",
    "def stu(*args):\n",
    "    print(\"啦啦啦啦啦啦\")\n",
    "    n = 0\n",
    "    for i in args:\n",
    "        print(n)\n",
    "        print(type(i))\n",
    "        print(i)\n",
    "        n += 1\n",
    "\n",
    "#stu(\"xiehai\", 22 ,100)\n",
    "\n",
    "l = list()\n",
    "l.append(\"xiehai\")\n",
    "l.append(22)\n",
    "l.append(100)\n",
    "stu(l)\n",
    "# 此时，args的表示形式是字典内一个list类型的元素\n",
    "# 违背了我们最初的想法\n",
    "# 此时的调用，我们就需要解包符号，即调用的时候前面加一个星号\n",
    "stu(*l)"
   ]
  },
  {
   "cell_type": "code",
   "execution_count": 3,
   "metadata": {},
   "outputs": [
    {
     "name": "stdout",
     "output_type": "stream",
     "text": [
      "Help on function stu in module __main__:\n",
      "\n",
      "stu(name, age, *args)\n",
      "    这是第一行\n",
      "    这是第二行\n",
      "    这是第三行\n",
      "\n"
     ]
    },
    {
     "data": {
      "text/plain": [
       "'\\n    这是第一行\\n    这是第二行\\n    这是第三行\\n    '"
      ]
     },
     "execution_count": 3,
     "metadata": {},
     "output_type": "execute_result"
    }
   ],
   "source": [
    "# 文档案例\n",
    "#函数stu是模拟一个学生自我介绍的内容\n",
    "def stu(name, age, *args):\n",
    "    '''\n",
    "    这是第一行\n",
    "    这是第二行\n",
    "    这是第三行\n",
    "    '''\n",
    "    print(\"This is function stu\")\n",
    "    \n",
    "# 查看函数文档\n",
    "help(stu)\n",
    "stu.__doc__"
   ]
  },
  {
   "cell_type": "code",
   "execution_count": null,
   "metadata": {},
   "outputs": [],
   "source": []
  }
 ],
 "metadata": {
  "kernelspec": {
   "display_name": "Python 3",
   "language": "python",
   "name": "python3"
  },
  "language_info": {
   "codemirror_mode": {
    "name": "ipython",
    "version": 3
   },
   "file_extension": ".py",
   "mimetype": "text/x-python",
   "name": "python",
   "nbconvert_exporter": "python",
   "pygments_lexer": "ipython3",
   "version": "3.6.5"
  }
 },
 "nbformat": 4,
 "nbformat_minor": 2
}
