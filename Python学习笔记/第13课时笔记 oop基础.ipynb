{
 "cells": [
  {
   "cell_type": "markdown",
   "metadata": {},
   "source": [
    "# OOP-Python面向对象\n",
    "- Python的面向对象\n",
    "- 面向对象编程\n",
    "    - 基础\n",
    "    - 公有私有\n",
    "    - 继承\n",
    "    - 组合，Mixin\n",
    "- 魔法函数\n",
    "    - 魔法函数概述\n",
    "    - 构造类魔法函数\n",
    "    - 运算类魔法函数\n",
    "\n",
    "# 1、面向对象概述（ObjectOriented   OO）\n",
    "- OOP思想\n",
    "    - 接触到任意一个任务，首先想到的是任务这个世界的构成，是由模型构成的\n",
    "    \n",
    "# 2、类和对象的概念\n",
    "- 类：抽象名词，代表一个集合，共性的食物\n",
    "- 对象：具象的食物，单个个体\n",
    "- 类和对象的关系：\n",
    "    - 一个是具象，代表一类食物的某一个个体\n",
    "    - 一个是抽象，代表的是一大类事物\n",
    "- 类中的内容，应该具有两个内容：\n",
    "    - 表面事物的特征，叫做属性（变量）\n",
    "    - 表明事物功能或动作，称为成员方法（函数）\n",
    "\n",
    "# 3、 类的基本实现\n",
    "- 类的命名\n",
    "    - 遵守变量命名的规范\n",
    "    - 大驼峰（由多个单词构成，每个单词首字母大写，单词跟单词直接相连）\n",
    "    - 尽量避开跟系统命名相似的命名\n",
    "- 如何声明一个类\n",
    "    - 必须用class关键字\n",
    "    - 类由属性和方法构成，其它不允许出现\n",
    "    - 成员属性定义可以直接使用变量赋值，如果没有值，可以使用None\n",
    "- 实例化类\n",
    "\n",
    "            变量 = 类名（） #实例化了一个对象\n",
    "- 访问对象成员\n",
    "    - 使用点操作符\n",
    "                \n",
    "                obj.成员属性名称\n",
    "                obj.成员方法\n",
    "- 可以通过默认内置变量检测类和对象的所有成员\n",
    "    - 对象所有成员检查\n",
    "                # dict前后各有两个下划线\n",
    "                obj._dict_\n",
    "    - 类所有的成员\n",
    "                # dict前后各有两个下划线\n",
    "                class_name,_dict_\n",
    "                \n",
    "                "
   ]
  },
  {
   "cell_type": "code",
   "execution_count": 7,
   "metadata": {},
   "outputs": [
    {
     "name": "stdout",
     "output_type": "stream",
     "text": [
      "None\n",
      "18\n",
      "I do homework\n"
     ]
    }
   ],
   "source": [
    "'''\n",
    "定义一个学生类，用来形容学生\n",
    "'''\n",
    "\n",
    "class Student():\n",
    "    # 用none给不确定的值赋值\n",
    "    name = None\n",
    "    age = 18\n",
    "    course = \"Python\"\n",
    "    \n",
    "    '''\n",
    "    需要注意\n",
    "    1.def doHomework的缩进等级\n",
    "    2.系统默认有一个self参数\n",
    "    '''\n",
    "    def doHomework(self):\n",
    "        print(\"I do homework\")\n",
    "        \n",
    "        # 推荐在函数末尾使用return\n",
    "        return None\n",
    "    \n",
    "# 实例化一个叫yueyue的学生，是一个具体的人  \n",
    "yueyue = Student()\n",
    "print(yueyue.name)\n",
    "print(yueyue.age)\n",
    "\n",
    "#注意成员函数的调用没有传递进入参数\n",
    "yueyue.doHomework()"
   ]
  },
  {
   "cell_type": "markdown",
   "metadata": {},
   "source": [
    "# 3、anaconda基本使用\n",
    "- anaconda主要是一个虚拟环境管理器\n",
    "- 还是一个安装包管理器\n",
    "- conda list：显示anaconda安装的包\n",
    "- conda env list：显示anaconda的虚拟环境列表\n",
    "- conda create -n xxx python=3.6：创建python版本为3.6的虚拟环境，名称为xxx"
   ]
  },
  {
   "cell_type": "markdown",
   "metadata": {},
   "source": [
    "# 4、类和对象的成员分析\n",
    "- 类和对象都可以存储成员，成员可以归类所有，也可以归对象所有\n",
    "- 类存储成员时使用的是与类关联的一个对象\n",
    "- 独享存储成员时存储在当前对象中\n",
    "- 对象访问一个成员时，如果对象中没有该成员，尝试访问类中的同名成员\n",
    "- 如果对象中有此成员，一定使用对象中的成员\n",
    "- 创建对象的时候，类中的成员不会放入对象当中，而是得到一个空对象，没有成员\n",
    "\n",
    "# 5、关于self\n",
    "- self在对象的方法中表示对象本身，如果通过对象调用一个方法，那么该对象会自动传入到当前方法的第一个参数中\n"
   ]
  }
 ],
 "metadata": {
  "kernelspec": {
   "display_name": "Python 3",
   "language": "python",
   "name": "python3"
  },
  "language_info": {
   "codemirror_mode": {
    "name": "ipython",
    "version": 3
   },
   "file_extension": ".py",
   "mimetype": "text/x-python",
   "name": "python",
   "nbconvert_exporter": "python",
   "pygments_lexer": "ipython3",
   "version": "3.6.5"
  }
 },
 "nbformat": 4,
 "nbformat_minor": 2
}
