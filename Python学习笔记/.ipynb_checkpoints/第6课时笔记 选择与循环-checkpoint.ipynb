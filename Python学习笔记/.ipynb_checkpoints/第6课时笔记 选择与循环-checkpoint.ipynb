{
 "cells": [
  {
   "cell_type": "markdown",
   "metadata": {},
   "source": [
    "# 三大结构\n",
    "- 顺序\n",
    "- 分支\n",
    "- 循环\n",
    "\n",
    "    ## 分支\n",
    "    - 分支的基本语法\n",
    "            if 条件表达式：\n",
    "                语句1\n",
    "                语句2\n",
    "                语句3\n",
    "                ........\n",
    "    - 条件表达式就是计算结构必须为布尔值的表达式\n",
    "    - 表达式后面的冒号不能少\n",
    "    - 注意if后面的出现的语句，如果属于if语句块，则必须同一个缩进等级\n",
    "    - 条件表达式结果为true执行if后面的缩进的语句块\n",
    "        ### 双向分支\n",
    "        - if...else...语句\n",
    "        - 双向分支有两个分支，当程序执行到if...else...语句的时候，一定会执行if或else中的一个也仅执行一个\n",
    "        - 缩进问题，if和else一个层级，其余语句一个层级\n",
    "        ### 多路分支\n",
    "        - 很多分支的情况，简称多路分支\n",
    "                if 条件表达式:\n",
    "                    语句1\n",
    "                    ...\n",
    "                elif 条件表达式:\n",
    "                    语句1\n",
    "                    ...\n",
    "        - elif可以有很多个，else可选\n",
    "        - 多路分支只会选一个执行\n",
    "        ### if语句其它：\n",
    "        - if语句可以嵌套使用，但不推荐\n",
    "        - Python没有switch-case语句\n",
    "        \n",
    "    ## 循环语句\n",
    "    - 重复执行某些固定动作或者处理基本固定的事物\n",
    "    - 分类\n",
    "        - for循环\n",
    "        - while循环\n",
    "        \n",
    "        ### for循环\n",
    "        - for循环基本语法：\n",
    "                for 变量 in 序列：\n",
    "                    语句1\n",
    "                    语句2\n",
    "        ### for-else语句\n",
    "        - 当for循环结束的时候，会执行else语句\n",
    "        - else语句是可选语句\n",
    "        ### 循环之break，continue，pass\n",
    "        - break：无条件结束整个循环，简称循环猝死\n",
    "        - continue：无条件结束本次循环，重新进入下一轮循环\n",
    "        - pass：表示略过，一般用于占位，没有跳过功能\n",
    "                    ...\n",
    "    ## range介绍\n",
    "    - 生成一个数字序列\n",
    "    - 具体范围可以设定\n",
    "    - 注意，一般在Python中，如果有表示数字范围的两个数，一般是包括左边数字不包含右边数字\n",
    "    - randint是特例，它左右都包括\n",
    "    \n",
    "        "
   ]
  },
  {
   "cell_type": "code",
   "execution_count": 1,
   "metadata": {},
   "outputs": [
    {
     "name": "stdout",
     "output_type": "stream",
     "text": [
      "zhangsan\n",
      "滚\n",
      "lisi\n",
      "滚\n",
      "wangwu\n",
      "滚\n",
      "xiaohui\n",
      "我的最爱xiaohui出现了\n",
      "daxiaojie\n",
      "我的最爱daxiaojie出现了\n",
      "不会再爱了\n"
     ]
    }
   ],
   "source": [
    "# for-else语句\n",
    "# 打印列表中的同学\n",
    "# 如果没有在列表中，或者列表结束了，我们需要打印提示语句\n",
    "for name in [\"zhangsan\",\"lisi\",\"wangwu\",\"xiaohui\",\"daxiaojie\"]:\n",
    "    print(name)\n",
    "    if name == \"xiaohui\" or name == \"daxiaojie\":\n",
    "        print(\"我的最爱{0}出现了\".format(name))\n",
    "    else:\n",
    "        print(\"滚\")\n",
    "else:\n",
    "    print(\"不会再爱了\")"
   ]
  },
  {
   "cell_type": "code",
   "execution_count": null,
   "metadata": {},
   "outputs": [],
   "source": []
  }
 ],
 "metadata": {
  "kernelspec": {
   "display_name": "Python 3",
   "language": "python",
   "name": "python3"
  },
  "language_info": {
   "codemirror_mode": {
    "name": "ipython",
    "version": 3
   },
   "file_extension": ".py",
   "mimetype": "text/x-python",
   "name": "python",
   "nbconvert_exporter": "python",
   "pygments_lexer": "ipython3",
   "version": "3.6.5"
  }
 },
 "nbformat": 4,
 "nbformat_minor": 2
}
