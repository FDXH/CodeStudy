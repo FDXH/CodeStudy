{
 "cells": [
  {
   "cell_type": "markdown",
   "metadata": {},
   "source": [
    "# 字符串\n",
    "- 转义字符\n",
    "- 格式化\n",
    "- 内建函数\n",
    "\n",
    "    ## 转义字符\n",
    "    - 用一个特殊的方法表示出一系列不方便写出的内容，比如回车键，换行键，退格键\n",
    "    - 结束反斜杠字符，一旦字符串中出现反斜杠，则反斜杠后面一个或几个字符表示已经不是原来的意思了，进行了转义\n",
    "    - 在字符串中，一旦出现反斜杠要加倍小心，可能有转义字符出现\n",
    "    - 不同系统对换行操作有不同的表示\n",
    "        - windows：\\n\n",
    "        - Linux:\\r\\n\n",
    "    \n",
    "    ## 字符串的格式化\n",
    "    - 把字符串按照一定格式打印或者填充\n",
    "    - 格式化有两种方法\n",
    "        - 利用百分号（%）\n",
    "        - 利用format函数\n",
    "    \n",
    "        ### 利用百分号格式化\n",
    "        - 在字符串中，利用%表示一个特殊的含义，表示对字符进行格式化\n",
    "        - %d：此处硬放入一个整数\n",
    "        - %s：表示此处应该放入一个字符串\n",
    "        ### format函数格式化字符串\n",
    "        - 直接用format函数进行格式化\n",
    "        - 推荐使用这种方法\n",
    "        - 在使用上，以{}和：代替%号，后面用format带参数完成\n",
    "    ## None\n",
    "    - 表示什么都没有\n",
    "    - 如果函数没有返回值，可以返回None\n",
    "    - 用来占位置\n",
    "    - 用来结束变量绑定\n",
    "        \n",
    "    \n"
   ]
  },
  {
   "cell_type": "code",
   "execution_count": 1,
   "metadata": {},
   "outputs": [
    {
     "name": "stdout",
     "output_type": "stream",
     "text": [
      "i love xie hai\n"
     ]
    }
   ],
   "source": [
    "s = \"i love {}\".format(\"xie hai\")\n",
    "print(s)"
   ]
  },
  {
   "cell_type": "code",
   "execution_count": 2,
   "metadata": {},
   "outputs": [
    {
     "name": "stdout",
     "output_type": "stream",
     "text": [
      "Yes,i am 18 years old,I love xiehai and i am 18 years old\n"
     ]
    }
   ],
   "source": [
    "s = \"Yes,i am {1} years old,I love {0} and i am {1} years old\".format(\"xiehai\",18)\n",
    "print(s)"
   ]
  },
  {
   "cell_type": "markdown",
   "metadata": {},
   "source": [
    "# 表达式\n",
    "- 由一个或者几个数字或者变量和运算符组合成的一行代码\n",
    "- 通常会返回一个结果\n",
    "# 运算符\n",
    "- 由一个以上的值经过变化得到新值的过程就叫运算\n",
    "- 用于运算的符号叫运算符\n",
    "- 运算符分类：\n",
    "    - 算数运算符\n",
    "    - 比较或者关系运算符\n",
    "    - 赋值运算符\n",
    "    - 逻辑运算符\n",
    "    - 位运算\n",
    "    - 成员运算符\n",
    "    - 身份运算符\n",
    "    \n",
    "    ## 算数运算符\n",
    "    - 进行算数运算的符号，即+ - * / % //(取商运算，只取商数) **(幂运算)\n",
    "    - Python没有自增自减运算符\n",
    "    \n",
    "    ## 比较运算符\n",
    "    - 对两个变量进行或者值进行比较的运算符 即 == !=  <  >  >=  <= \n",
    "    - 还有所有数学运算符的缩写形式 如 +=\n",
    "    - 比较的结果是布尔值，即TRUE/FALSE\n",
    "    \n",
    "    ## 逻辑运算符\n",
    "    - 对于逻辑进行计算的符号\n",
    "    - and 逻辑与 \n",
    "    - or 逻辑或\n",
    "    - not 逻辑非\n",
    "    - Python中逻辑运算没有异或运算\n",
    "    - 运算规则：\n",
    "        - and看作乘法，or看作加法。\n",
    "        - True看作1，False看作2\n",
    "        - 则逻辑运算就能转换成整数数学运算\n",
    "        - 最后结果如果是0则为false，否则为True\n",
    "    - 逻辑运算的短路问题\n",
    "        - 逻辑运算时，按照运算顺序计算，一旦能够确定整个式子未来的值，则不再进行计算，直接返回\n",
    "        \n",
    "    "
   ]
  },
  {
   "cell_type": "code",
   "execution_count": 3,
   "metadata": {},
   "outputs": [
    {
     "ename": "SyntaxError",
     "evalue": "invalid syntax (<ipython-input-3-e540aa18b2fc>, line 9)",
     "output_type": "error",
     "traceback": [
      "\u001b[1;36m  File \u001b[1;32m\"<ipython-input-3-e540aa18b2fc>\"\u001b[1;36m, line \u001b[1;32m9\u001b[0m\n\u001b[1;33m    a = a or (b=9) and 6\u001b[0m\n\u001b[1;37m               ^\u001b[0m\n\u001b[1;31mSyntaxError\u001b[0m\u001b[1;31m:\u001b[0m invalid syntax\n"
     ]
    }
   ],
   "source": [
    "# 逻辑运算的短路案例\n",
    "\n",
    "# 下面的逻辑表达式，a的值一定是True，则运行到or的时候，整个表达式不再向下计算\n",
    "a = True or xxxxxxxxx\n",
    "\n",
    "# 下面表达式，如果xxx中  包含赋值表达式，则结果很难预期\n",
    "#代码实例（伪代码）\n",
    "b = 0\n",
    "a = a or (b=9) and 6\n",
    "#假定上面表达式如果没有语法错误，则b最终的值应该是0而不是9\n",
    "print(b)\n",
    "print(a)"
   ]
  },
  {
   "cell_type": "markdown",
   "metadata": {},
   "source": [
    "## 成员运算符\n",
    "- 用来检测某一个变量是否是另一个变量的成员\n",
    "- in\n",
    "- not in\n",
    "\n",
    "## 身份运算符\n",
    "- is：用来检测两个变量是否是同一个变量 以及is not\n",
    "    - 语法就是 var1 is var2\n",
    "    \n",
    "## 运算符的优先级问题\n",
    "- 用于技术，括号具有最高优先级\n",
    "- 优先级表格：讲义中寻找\n",
    "\n",
    "# 程序结构\n",
    "- 顺序\n",
    "- 分支\n",
    "- 循环\n"
   ]
  },
  {
   "cell_type": "code",
   "execution_count": null,
   "metadata": {},
   "outputs": [],
   "source": []
  }
 ],
 "metadata": {
  "kernelspec": {
   "display_name": "Python 3",
   "language": "python",
   "name": "python3"
  },
  "language_info": {
   "codemirror_mode": {
    "name": "ipython",
    "version": 3
   },
   "file_extension": ".py",
   "mimetype": "text/x-python",
   "name": "python",
   "nbconvert_exporter": "python",
   "pygments_lexer": "ipython3",
   "version": "3.6.5"
  }
 },
 "nbformat": 4,
 "nbformat_minor": 2
}
